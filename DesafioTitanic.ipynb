{
  "nbformat": 4,
  "nbformat_minor": 0,
  "metadata": {
    "colab": {
      "name": "DesafioTitanic.ipynb",
      "provenance": [],
      "collapsed_sections": [],
      "toc_visible": true
    },
    "kernelspec": {
      "name": "python3",
      "display_name": "Python 3"
    },
    "language_info": {
      "name": "python"
    }
  },
  "cells": [
    {
      "cell_type": "markdown",
      "metadata": {
        "id": "2UibU4Nl0sSA"
      },
      "source": [
        "\n",
        "# Indice\n",
        "\n",
        "&nbsp;&nbsp;&nbsp;&nbsp;&nbsp;The challenge is to find a set of rules to fill a new column called \"prediction\", similar to the contents of the Survived column. Important: This set of rules cannot use a Survived column, just like other information.\n",
        "\n"
      ]
    },
    {
      "cell_type": "code",
      "metadata": {
        "id": "6988MSgy1QOF"
      },
      "source": [
        "#Importação das bibliotécas \n",
        "\n",
        "import seaborn as sns\n",
        "import pandas as pd\n",
        "import matplotlib.pyplot as plt"
      ],
      "execution_count": 1,
      "outputs": []
    },
    {
      "cell_type": "code",
      "metadata": {
        "colab": {
          "base_uri": "https://localhost:8080/",
          "height": 204
        },
        "id": "laXL9iQ42KH9",
        "outputId": "f595451a-bb8e-45ad-8385-6043af2f8ac6"
      },
      "source": [
        "#Leitura dos dados \n",
        "titanic = pd.read_csv('titanic.data')\n",
        "titanicWithNaN = pd.read_csv('titanic.data')\n",
        "\n",
        "titanic.head()"
      ],
      "execution_count": 2,
      "outputs": [
        {
          "output_type": "execute_result",
          "data": {
            "text/html": [
              "<div>\n",
              "<style scoped>\n",
              "    .dataframe tbody tr th:only-of-type {\n",
              "        vertical-align: middle;\n",
              "    }\n",
              "\n",
              "    .dataframe tbody tr th {\n",
              "        vertical-align: top;\n",
              "    }\n",
              "\n",
              "    .dataframe thead th {\n",
              "        text-align: right;\n",
              "    }\n",
              "</style>\n",
              "<table border=\"1\" class=\"dataframe\">\n",
              "  <thead>\n",
              "    <tr style=\"text-align: right;\">\n",
              "      <th></th>\n",
              "      <th>PassengerId</th>\n",
              "      <th>Survived</th>\n",
              "      <th>Pclass</th>\n",
              "      <th>Name</th>\n",
              "      <th>Sex</th>\n",
              "      <th>Age</th>\n",
              "      <th>SibSp</th>\n",
              "      <th>Parch</th>\n",
              "      <th>Ticket</th>\n",
              "      <th>Fare</th>\n",
              "      <th>Cabin</th>\n",
              "      <th>Embarked</th>\n",
              "    </tr>\n",
              "  </thead>\n",
              "  <tbody>\n",
              "    <tr>\n",
              "      <th>0</th>\n",
              "      <td>1</td>\n",
              "      <td>0</td>\n",
              "      <td>3</td>\n",
              "      <td>Braund, Mr. Owen Harris</td>\n",
              "      <td>male</td>\n",
              "      <td>22.0</td>\n",
              "      <td>1</td>\n",
              "      <td>0</td>\n",
              "      <td>A/5 21171</td>\n",
              "      <td>7.2500</td>\n",
              "      <td>NaN</td>\n",
              "      <td>S</td>\n",
              "    </tr>\n",
              "    <tr>\n",
              "      <th>1</th>\n",
              "      <td>2</td>\n",
              "      <td>1</td>\n",
              "      <td>1</td>\n",
              "      <td>Cumings, Mrs. John Bradley (Florence Briggs Th...</td>\n",
              "      <td>female</td>\n",
              "      <td>38.0</td>\n",
              "      <td>1</td>\n",
              "      <td>0</td>\n",
              "      <td>PC 17599</td>\n",
              "      <td>71.2833</td>\n",
              "      <td>C85</td>\n",
              "      <td>C</td>\n",
              "    </tr>\n",
              "    <tr>\n",
              "      <th>2</th>\n",
              "      <td>3</td>\n",
              "      <td>1</td>\n",
              "      <td>3</td>\n",
              "      <td>Heikkinen, Miss. Laina</td>\n",
              "      <td>female</td>\n",
              "      <td>26.0</td>\n",
              "      <td>0</td>\n",
              "      <td>0</td>\n",
              "      <td>STON/O2. 3101282</td>\n",
              "      <td>7.9250</td>\n",
              "      <td>NaN</td>\n",
              "      <td>S</td>\n",
              "    </tr>\n",
              "    <tr>\n",
              "      <th>3</th>\n",
              "      <td>4</td>\n",
              "      <td>1</td>\n",
              "      <td>1</td>\n",
              "      <td>Futrelle, Mrs. Jacques Heath (Lily May Peel)</td>\n",
              "      <td>female</td>\n",
              "      <td>35.0</td>\n",
              "      <td>1</td>\n",
              "      <td>0</td>\n",
              "      <td>113803</td>\n",
              "      <td>53.1000</td>\n",
              "      <td>C123</td>\n",
              "      <td>S</td>\n",
              "    </tr>\n",
              "    <tr>\n",
              "      <th>4</th>\n",
              "      <td>5</td>\n",
              "      <td>0</td>\n",
              "      <td>3</td>\n",
              "      <td>Allen, Mr. William Henry</td>\n",
              "      <td>male</td>\n",
              "      <td>35.0</td>\n",
              "      <td>0</td>\n",
              "      <td>0</td>\n",
              "      <td>373450</td>\n",
              "      <td>8.0500</td>\n",
              "      <td>NaN</td>\n",
              "      <td>S</td>\n",
              "    </tr>\n",
              "  </tbody>\n",
              "</table>\n",
              "</div>"
            ],
            "text/plain": [
              "   PassengerId  Survived  Pclass  ...     Fare Cabin  Embarked\n",
              "0            1         0       3  ...   7.2500   NaN         S\n",
              "1            2         1       1  ...  71.2833   C85         C\n",
              "2            3         1       3  ...   7.9250   NaN         S\n",
              "3            4         1       1  ...  53.1000  C123         S\n",
              "4            5         0       3  ...   8.0500   NaN         S\n",
              "\n",
              "[5 rows x 12 columns]"
            ]
          },
          "metadata": {
            "tags": []
          },
          "execution_count": 2
        }
      ]
    },
    {
      "cell_type": "markdown",
      "metadata": {
        "id": "AutX1EXQ2je-"
      },
      "source": [
        "\n",
        "----\n",
        "<br>&nbsp;&nbsp;&nbsp;&nbsp;&nbsp;<h1>\n",
        "Start of data mold"
      ]
    },
    {
      "cell_type": "code",
      "metadata": {
        "colab": {
          "base_uri": "https://localhost:8080/"
        },
        "id": "OM_C1ehb5SrS",
        "outputId": "99a35960-95fb-41b2-f2a4-daed09f374ab"
      },
      "source": [
        "#Dados retornados como nulos\n",
        "titanic.isna().sum()"
      ],
      "execution_count": 3,
      "outputs": [
        {
          "output_type": "execute_result",
          "data": {
            "text/plain": [
              "PassengerId      0\n",
              "Survived         0\n",
              "Pclass           0\n",
              "Name             0\n",
              "Sex              0\n",
              "Age            177\n",
              "SibSp            0\n",
              "Parch            0\n",
              "Ticket           0\n",
              "Fare             0\n",
              "Cabin          687\n",
              "Embarked         2\n",
              "dtype: int64"
            ]
          },
          "metadata": {
            "tags": []
          },
          "execution_count": 3
        }
      ]
    },
    {
      "cell_type": "code",
      "metadata": {
        "id": "lKbY1TzO5alc",
        "colab": {
          "base_uri": "https://localhost:8080/"
        },
        "outputId": "d2b180fe-c273-48e1-f145-a83e1571998b"
      },
      "source": [
        "#Ajustes em dados que podem ocasionar em problemas ou erros no código\n",
        "\n",
        "  #Idade nulas agora comtém valores utilizáveis \n",
        "titanic.fillna({'Age':titanic.Age.mean()} , inplace=True)\n",
        "\n",
        "titanicWithNaN.fillna({'Age': -1} , inplace=True)\n",
        "titanicWithNaN.fillna({'Cabin': -1} , inplace=True)\n",
        "\n",
        "  #Sexo passa a conter valor booleano\n",
        "titanic['Sex'][titanic['Sex'] == 'male'] = 0\n",
        "titanic['Sex'][titanic['Sex'] == 'female'] = 1\n",
        "titanic['Sex'] = pd.to_numeric(titanic['Sex'])\n",
        "\n",
        "titanicWithNaN['Sex'][titanicWithNaN['Sex'] == 'male'] = 0\n",
        "titanicWithNaN['Sex'][titanicWithNaN['Sex'] == 'female'] = 1\n",
        "titanicWithNaN['Sex'] = pd.to_numeric(titanicWithNaN['Sex'])"
      ],
      "execution_count": 4,
      "outputs": [
        {
          "output_type": "stream",
          "text": [
            "/usr/local/lib/python3.7/dist-packages/ipykernel_launcher.py:10: SettingWithCopyWarning: \n",
            "A value is trying to be set on a copy of a slice from a DataFrame\n",
            "\n",
            "See the caveats in the documentation: https://pandas.pydata.org/pandas-docs/stable/user_guide/indexing.html#returning-a-view-versus-a-copy\n",
            "  # Remove the CWD from sys.path while we load stuff.\n",
            "/usr/local/lib/python3.7/dist-packages/ipykernel_launcher.py:11: SettingWithCopyWarning: \n",
            "A value is trying to be set on a copy of a slice from a DataFrame\n",
            "\n",
            "See the caveats in the documentation: https://pandas.pydata.org/pandas-docs/stable/user_guide/indexing.html#returning-a-view-versus-a-copy\n",
            "  # This is added back by InteractiveShellApp.init_path()\n",
            "/usr/local/lib/python3.7/dist-packages/ipykernel_launcher.py:14: SettingWithCopyWarning: \n",
            "A value is trying to be set on a copy of a slice from a DataFrame\n",
            "\n",
            "See the caveats in the documentation: https://pandas.pydata.org/pandas-docs/stable/user_guide/indexing.html#returning-a-view-versus-a-copy\n",
            "  \n",
            "/usr/local/lib/python3.7/dist-packages/ipykernel_launcher.py:15: SettingWithCopyWarning: \n",
            "A value is trying to be set on a copy of a slice from a DataFrame\n",
            "\n",
            "See the caveats in the documentation: https://pandas.pydata.org/pandas-docs/stable/user_guide/indexing.html#returning-a-view-versus-a-copy\n",
            "  from ipykernel import kernelapp as app\n"
          ],
          "name": "stderr"
        }
      ]
    },
    {
      "cell_type": "code",
      "metadata": {
        "colab": {
          "base_uri": "https://localhost:8080/",
          "height": 296
        },
        "id": "r4XU77QO27k7",
        "outputId": "65007a7d-4898-49b3-f7d9-54b1b4aba416"
      },
      "source": [
        "sns.regplot(x=titanic['Age'], y=titanic['Fare'])"
      ],
      "execution_count": 5,
      "outputs": [
        {
          "output_type": "execute_result",
          "data": {
            "text/plain": [
              "<matplotlib.axes._subplots.AxesSubplot at 0x7fa00789ea50>"
            ]
          },
          "metadata": {
            "tags": []
          },
          "execution_count": 5
        },
        {
          "output_type": "display_data",
          "data": {
            "image/png": "[encoded data removed]",
            "text/plain": [
              "<Figure size 432x288 with 1 Axes>"
            ]
          },
          "metadata": {
            "tags": [],
            "needs_background": "light"
          }
        }
      ]
    },
    {
      "cell_type": "markdown",
      "metadata": {
        "id": "r0MWkQA_IlbL"
      },
      "source": [
        "-------\n",
        "<br>\n",
        "\n",
        "Analysis of survivors and non-survivors using ages"
      ]
    },
    {
      "cell_type": "markdown",
      "metadata": {
        "id": "9vs7YuhxMJwS"
      },
      "source": [
        "\n",
        "\n",
        "It is notable that the ages with the highest number of occurrences are between **15** and **40** years"
      ]
    },
    {
      "cell_type": "code",
      "metadata": {
        "colab": {
          "base_uri": "https://localhost:8080/",
          "height": 321
        },
        "id": "HOWZL8ZvD4MG",
        "outputId": "cef0f609-3d76-4595-aae9-2df5bc61a8ff"
      },
      "source": [
        "\n",
        "plt.title(\"Deaths and survivors of the titanic by age\", size=15)\n",
        "\n",
        "sns.swarmplot(y=titanic['Age'])"
      ],
      "execution_count": 6,
      "outputs": [
        {
          "output_type": "stream",
          "text": [
            "/usr/local/lib/python3.7/dist-packages/seaborn/categorical.py:1296: UserWarning: 20.3% of the points cannot be placed; you may want to decrease the size of the markers or use stripplot.\n",
            "  warnings.warn(msg, UserWarning)\n"
          ],
          "name": "stderr"
        },
        {
          "output_type": "execute_result",
          "data": {
            "text/plain": [
              "<matplotlib.axes._subplots.AxesSubplot at 0x7f9ff33e6550>"
            ]
          },
          "metadata": {
            "tags": []
          },
          "execution_count": 6
        },
        {
          "output_type": "display_data",
          "data": {
            "image/png": "[encoded data removed]",
            "text/plain": [
              "<Figure size 432x288 with 1 Axes>"
            ]
          },
          "metadata": {
            "tags": [],
            "needs_background": "light"
          }
        }
      ]
    },
    {
      "cell_type": "markdown",
      "metadata": {
        "id": "DxlPBAq_M7Rw"
      },
      "source": [
        "<br>\n",
        "\n",
        "Analyzing the number of people per class between the ages of 15 and 38, the result of both survivors and non-survivors is that in both cases the largest number of cases is found in the results in ** Third class ** impossible to double the others.\n",
        "\n"
      ]
    },
    {
      "cell_type": "code",
      "metadata": {
        "colab": {
          "base_uri": "https://localhost:8080/",
          "height": 350
        },
        "id": "cJJu2u11-J2w",
        "outputId": "746ee47d-3a3e-4343-9a54-82a67cc2e0a8"
      },
      "source": [
        "from collections import Counter\n",
        "\n",
        "titanicClassAge = (titanic['Age'] > 15) & (titanic['Age'] < 40)\n",
        "titanicClassAge = titanic[titanicClassAge]\n",
        "\n",
        "print('Survived')\n",
        "print(Counter(titanicClassAge['Pclass']))\n",
        "print()\n",
        "sns.stripplot(y=titanicClassAge['Age'], x=titanicClassAge['Pclass'], data=titanicClassAge)\n"
      ],
      "execution_count": 7,
      "outputs": [
        {
          "output_type": "stream",
          "text": [
            "Survived\n",
            "Counter({3: 388, 1: 129, 2: 128})\n",
            "\n"
          ],
          "name": "stdout"
        },
        {
          "output_type": "execute_result",
          "data": {
            "text/plain": [
              "<matplotlib.axes._subplots.AxesSubplot at 0x7f9fe93970d0>"
            ]
          },
          "metadata": {
            "tags": []
          },
          "execution_count": 7
        },
        {
          "output_type": "display_data",
          "data": {
            "image/png": "[encoded data removed]",
            "text/plain": [
              "<Figure size 432x288 with 1 Axes>"
            ]
          },
          "metadata": {
            "tags": [],
            "needs_background": "light"
          }
        }
      ]
    },
    {
      "cell_type": "markdown",
      "metadata": {
        "id": "dE3OjSfSS8ge"
      },
      "source": [
        "-----\n",
        "<br>\n",
        "\n",
        "Analyzing the number of people per class between the ages of 15 and 38, the result of both survivors and non-survivors is that in both cases the largest number of cases were reported to be on boarding S"
      ]
    },
    {
      "cell_type": "code",
      "metadata": {
        "colab": {
          "base_uri": "https://localhost:8080/",
          "height": 299
        },
        "id": "b21Zahm6Sp1w",
        "outputId": "a6047d36-2ff4-4017-8476-1a9f8b3803d5"
      },
      "source": [
        "sns.stripplot(y=titanicClassAge['Age'], x=titanicClassAge['Embarked'], data=titanicClassAge)"
      ],
      "execution_count": 8,
      "outputs": [
        {
          "output_type": "execute_result",
          "data": {
            "text/plain": [
              "<matplotlib.axes._subplots.AxesSubplot at 0x7f9fe8355590>"
            ]
          },
          "metadata": {
            "tags": []
          },
          "execution_count": 8
        },
        {
          "output_type": "display_data",
          "data": {
            "image/png": "[encoded data removed]",
            "text/plain": [
              "<Figure size 432x288 with 1 Axes>"
            ]
          },
          "metadata": {
            "tags": [],
            "needs_background": "light"
          }
        }
      ]
    },
    {
      "cell_type": "markdown",
      "metadata": {
        "id": "rdDXp-MrBQ4G"
      },
      "source": [
        "<br>\n",
        "\n",
        "In this case, men died much more than women independent of the class and, consequently, were the ones who least survived."
      ]
    },
    {
      "cell_type": "code",
      "metadata": {
        "colab": {
          "base_uri": "https://localhost:8080/"
        },
        "id": "d7foTuNs66Cv",
        "outputId": "1276410a-bba4-4a74-a297-9e53fd6bf31d"
      },
      "source": [
        "print(\"all the titanic people\")\n",
        "print(\"Male = 0 and Female = 1\")\n",
        "\n",
        "titanic['Sex'].value_counts()"
      ],
      "execution_count": 9,
      "outputs": [
        {
          "output_type": "stream",
          "text": [
            "all the titanic people\n",
            "Male = 0 and Female = 1\n"
          ],
          "name": "stdout"
        },
        {
          "output_type": "execute_result",
          "data": {
            "text/plain": [
              "0    577\n",
              "1    314\n",
              "Name: Sex, dtype: int64"
            ]
          },
          "metadata": {
            "tags": []
          },
          "execution_count": 9
        }
      ]
    },
    {
      "cell_type": "code",
      "metadata": {
        "colab": {
          "base_uri": "https://localhost:8080/"
        },
        "id": "I9HGuza9YGxh",
        "outputId": "65a66256-7570-40c6-e7e9-c8a2c924edf3"
      },
      "source": [
        "print(\"all the people of the titanic taking into account the age (15 to 40 years)\")\n",
        "print(\"Male = 0 and Female = 1\")\n",
        "\n",
        "titanicClassAge['Sex'].value_counts()"
      ],
      "execution_count": 10,
      "outputs": [
        {
          "output_type": "stream",
          "text": [
            "all the people of the titanic taking into account the age (15 to 40 years)\n",
            "Male = 0 and Female = 1\n"
          ],
          "name": "stdout"
        },
        {
          "output_type": "execute_result",
          "data": {
            "text/plain": [
              "0    428\n",
              "1    217\n",
              "Name: Sex, dtype: int64"
            ]
          },
          "metadata": {
            "tags": []
          },
          "execution_count": 10
        }
      ]
    },
    {
      "cell_type": "markdown",
      "metadata": {
        "id": "MwN6swHgeaxv"
      },
      "source": [
        "\n",
        "It was detected that the total passengers equals **891** and of that number **577** are **men**, that is, approximately **64%** of the total passengers are men\n",
        "\n",
        "Analyzing further using the age range that most occurred, it was possible to analyze the total of ** 645 ** passengers who were between the ages of 15 to 45 years old and it was also possible to note that of this total **428** were **men** resulting in approximately **66%** of this total."
      ]
    },
    {
      "cell_type": "markdown",
      "metadata": {
        "id": "tcLDR6jU7MOm"
      },
      "source": [
        "<br>\n",
        "\n",
        "Class count"
      ]
    },
    {
      "cell_type": "code",
      "metadata": {
        "colab": {
          "base_uri": "https://localhost:8080/"
        },
        "id": "vfwFJX-MBKCR",
        "outputId": "b715f455-8235-4889-95f1-c548436583d1"
      },
      "source": [
        "\n",
        "Counter(titanic['Pclass'])"
      ],
      "execution_count": 11,
      "outputs": [
        {
          "output_type": "execute_result",
          "data": {
            "text/plain": [
              "Counter({1: 216, 2: 184, 3: 491})"
            ]
          },
          "metadata": {
            "tags": []
          },
          "execution_count": 11
        }
      ]
    },
    {
      "cell_type": "markdown",
      "metadata": {
        "id": "ySVGC6zNNyYZ"
      },
      "source": [
        "<br>\n",
        "\n",
        "\n",
        "Analysis referring to **number of men and women who died and survived in each class**"
      ]
    },
    {
      "cell_type": "code",
      "metadata": {
        "colab": {
          "base_uri": "https://localhost:8080/"
        },
        "id": "a0yGNJmG58yB",
        "outputId": "50adb52b-53c8-4c92-e288-0bac51cc1fd6"
      },
      "source": [
        "AgeNaN = titanicWithNaN['Age']== -1\n",
        "AgeNaN = titanicWithNaN[AgeNaN]\n",
        "print(Counter(AgeNaN['Sex']))\n",
        "\n",
        "print(Counter(AgeNaN['Pclass']))\n",
        "\n",
        "AgeNaNCabin = AgeNaN['Cabin']== -1\n",
        "AgeNaNCabin = AgeNaN[AgeNaNCabin]\n",
        "print(Counter(AgeNaNCabin['Sex']))\n"
      ],
      "execution_count": 12,
      "outputs": [
        {
          "output_type": "stream",
          "text": [
            "Counter({0: 124, 1: 53})\n",
            "Counter({3: 136, 1: 30, 2: 11})\n",
            "Counter({0: 112, 1: 46})\n"
          ],
          "name": "stdout"
        }
      ]
    },
    {
      "cell_type": "markdown",
      "metadata": {
        "id": "rcxNp9yJ9VY3"
      },
      "source": [
        "\n",
        "- Around 60% of people aged resulting in NaN in their field are **men**\n",
        "- Around 60% aged resulting in NaN São **Class 3**\n",
        "- About 60% of the people with Cabins resulting in NaN in their field are **Men**\n",
        "<br>"
      ]
    },
    {
      "cell_type": "markdown",
      "metadata": {
        "id": "3bp4YupuOM0P"
      },
      "source": [
        "\n",
        "In all cases referring to the classes, the men were in the class and booths most likely to be among the dead, so we can conclude that more than half of the dead are Men who were in class 3 and consequently took a cheaper place."
      ]
    },
    {
      "cell_type": "code",
      "metadata": {
        "colab": {
          "base_uri": "https://localhost:8080/"
        },
        "id": "QxMwZlGaeOaK",
        "outputId": "f9166cd6-241a-4698-db6f-a8dd7f2e5b1b"
      },
      "source": [
        "\n",
        "\n",
        "titanicFare = (titanicWithNaN['Age'] > 15) & (titanicWithNaN['Age'] < 40) | (titanicWithNaN['Age'] == -1)\n",
        "titanicFare = titanicWithNaN[titanicFare]\n",
        "\n",
        "titanicFaree = titanicFare['Pclass']== 3\n",
        "titanicFaree = titanicFare[titanicFaree]\n",
        "\n",
        "print(\"Total Age + Pclass :\" , Counter(titanicFaree['Pclass']))\n",
        "print(\"Total Titanic: \" , Counter(titanic['Pclass'] == 3))\n",
        "print()\n",
        "print(\"Total Expenditures used by old and Class 3 sieves: \" )\n",
        "print(titanicFaree['Fare'].sum())\n",
        "\n",
        "print(\"Total expenses used by the entire titanic: \" )\n",
        "print(titanic['Fare'].sum())"
      ],
      "execution_count": 13,
      "outputs": [
        {
          "output_type": "stream",
          "text": [
            "Total Age + Pclass : Counter({3: 388})\n",
            "Total Titanic:  Counter({True: 491, False: 400})\n",
            "\n",
            "Total Expenditures used by old and Class 3 sieves: \n",
            "4832.1157\n",
            "Total expenses used by the entire titanic: \n",
            "28693.9493\n"
          ],
          "name": "stdout"
        }
      ]
    },
    {
      "cell_type": "markdown",
      "metadata": {
        "id": "UjeVRQX8ixCQ"
      },
      "source": [
        "In view of this data analysis, the total number of people who paid for Class 3 corresponds to **55%** of the total passengers of the titanic, and of these **55%** about **43% ** has an average of 15 and 45 years and more than half of them are **men**.\n",
        "\n",
        "It can be seen that **55%** of the titanic chose to pay less for their services, corresponding to **4832.11 Dolars** out of a total corresponding to **33,526,065 Dolars**, so it is very likely that those who chose the worst classes and consequently paid less have a much greater chance of death than those who invested more in their travels."
      ]
    },
    {
      "cell_type": "markdown",
      "metadata": {
        "id": "tRjV09IlkP4f"
      },
      "source": [
        "##Finally, it can be concluded that:\n",
        "\n",
        "- The vast majority of deaths may be from men, as their presence was much stronger than that of women.\n",
        "- There are many more passengers who have paid **Class3** than other classes\n",
        "- More than half of passengers chose to invest little in their trip\n",
        "- The vast majority of the people who were there were between the ages of **15 and 40** and the vast majority were men.\n",
        "<br>"
      ]
    },
    {
      "cell_type": "markdown",
      "metadata": {
        "id": "NL8_RC5LsUUP"
      },
      "source": [
        "<br>\n",
        "<br>\n",
        "\n",
        "##End of data analysis and start assembling the column \"Predicao\""
      ]
    },
    {
      "cell_type": "code",
      "metadata": {
        "id": "cXpWWycQlJNl"
      },
      "source": [
        "titanic['predicao'] = ''"
      ],
      "execution_count": 14,
      "outputs": []
    },
    {
      "cell_type": "code",
      "metadata": {
        "id": "8La02wrpnLuP"
      },
      "source": [
        "titanic.fillna({'Age': -1} , inplace=True)\n",
        "titanic.fillna({'Cabin': -1} , inplace=True)"
      ],
      "execution_count": 15,
      "outputs": []
    },
    {
      "cell_type": "markdown",
      "metadata": {
        "id": "Amp9YAODsdGR"
      },
      "source": [
        "<br>\n",
        "\n",
        "Values ​​detected as Null were judged to be dead due to lost data"
      ]
    },
    {
      "cell_type": "code",
      "metadata": {
        "colab": {
          "base_uri": "https://localhost:8080/"
        },
        "id": "CxrcwmOgnEak",
        "outputId": "0ebf049c-deed-42eb-84aa-0de83a169ca6"
      },
      "source": [
        "titanic['predicao'][( titanic['Age'] == -1) & (titanic['Cabin'] == -1 )] = 0"
      ],
      "execution_count": 16,
      "outputs": [
        {
          "output_type": "stream",
          "text": [
            "/usr/local/lib/python3.7/dist-packages/ipykernel_launcher.py:1: SettingWithCopyWarning: \n",
            "A value is trying to be set on a copy of a slice from a DataFrame\n",
            "\n",
            "See the caveats in the documentation: https://pandas.pydata.org/pandas-docs/stable/user_guide/indexing.html#returning-a-view-versus-a-copy\n",
            "  \"\"\"Entry point for launching an IPython kernel.\n"
          ],
          "name": "stderr"
        }
      ]
    },
    {
      "cell_type": "markdown",
      "metadata": {
        "id": "0XV4jeEMweEC"
      },
      "source": [
        "<br>\n",
        "\n",
        "Greater occurrence of passengers in class 3, the vast majority of whom are men, being embedded in the letter \"S\""
      ]
    },
    {
      "cell_type": "code",
      "metadata": {
        "colab": {
          "base_uri": "https://localhost:8080/"
        },
        "id": "0Qo-ENUQlHDe",
        "outputId": "0c83cf2b-5cb0-4941-ab96-a28005443884"
      },
      "source": [
        "titanic['predicao'][(titanic['Pclass'] == 3)  & ( titanic['Sex'] == 0) & (titanic['Cabin'] == -1 )]  = 0\n",
        "titanic['predicao'][(titanic['Pclass'] == 3)  &  (titanic['Embarked'] =='S')] = 0"
      ],
      "execution_count": 17,
      "outputs": [
        {
          "output_type": "stream",
          "text": [
            "/usr/local/lib/python3.7/dist-packages/ipykernel_launcher.py:1: SettingWithCopyWarning: \n",
            "A value is trying to be set on a copy of a slice from a DataFrame\n",
            "\n",
            "See the caveats in the documentation: https://pandas.pydata.org/pandas-docs/stable/user_guide/indexing.html#returning-a-view-versus-a-copy\n",
            "  \"\"\"Entry point for launching an IPython kernel.\n",
            "/usr/local/lib/python3.7/dist-packages/ipykernel_launcher.py:2: SettingWithCopyWarning: \n",
            "A value is trying to be set on a copy of a slice from a DataFrame\n",
            "\n",
            "See the caveats in the documentation: https://pandas.pydata.org/pandas-docs/stable/user_guide/indexing.html#returning-a-view-versus-a-copy\n",
            "  \n"
          ],
          "name": "stderr"
        }
      ]
    },
    {
      "cell_type": "markdown",
      "metadata": {
        "id": "5OIQ1orQwNPQ"
      },
      "source": [
        "<br>\n",
        "\n",
        "Using the missing data from the Cabins next to the largest occurrence of vessel and the highest occurrence of class"
      ]
    },
    {
      "cell_type": "code",
      "metadata": {
        "colab": {
          "base_uri": "https://localhost:8080/"
        },
        "id": "ZzHi6kPQoh6s",
        "outputId": "3d64c8fe-e440-4de5-8047-eda1bf50561f"
      },
      "source": [
        "\n",
        "titanic['predicao'][(titanic['Cabin'] == -1)  & (titanic['Embarked'] =='S') & (titanic['Age'] > 15) & (titanic['Age'] < 40)] = 0"
      ],
      "execution_count": 18,
      "outputs": [
        {
          "output_type": "stream",
          "text": [
            "/usr/local/lib/python3.7/dist-packages/ipykernel_launcher.py:2: SettingWithCopyWarning: \n",
            "A value is trying to be set on a copy of a slice from a DataFrame\n",
            "\n",
            "See the caveats in the documentation: https://pandas.pydata.org/pandas-docs/stable/user_guide/indexing.html#returning-a-view-versus-a-copy\n",
            "  \n"
          ],
          "name": "stderr"
        }
      ]
    },
    {
      "cell_type": "code",
      "metadata": {
        "colab": {
          "base_uri": "https://localhost:8080/"
        },
        "id": "XJ9BNuSZqjJA",
        "outputId": "3c401bfc-4670-4821-cae4-19984f7eef83"
      },
      "source": [
        "titanic['predicao'][(titanic['predicao'] != 0 )] = 1\n"
      ],
      "execution_count": 19,
      "outputs": [
        {
          "output_type": "stream",
          "text": [
            "/usr/local/lib/python3.7/dist-packages/ipykernel_launcher.py:1: SettingWithCopyWarning: \n",
            "A value is trying to be set on a copy of a slice from a DataFrame\n",
            "\n",
            "See the caveats in the documentation: https://pandas.pydata.org/pandas-docs/stable/user_guide/indexing.html#returning-a-view-versus-a-copy\n",
            "  \"\"\"Entry point for launching an IPython kernel.\n"
          ],
          "name": "stderr"
        }
      ]
    },
    {
      "cell_type": "code",
      "metadata": {
        "colab": {
          "base_uri": "https://localhost:8080/"
        },
        "id": "GzTTpsXKoCEu",
        "outputId": "e8bef1a2-f1d4-451e-e1d6-182ce5a3c65e"
      },
      "source": [
        "predicao = len(titanic['predicao'][(titanic['predicao'] == 0)])\n",
        "\n",
        "\n",
        "total = len(titanic)\n",
        "\n",
        "totalSurvived = len(titanic['Survived'][(titanic['Survived'] == 0)])\n",
        "\n",
        "percentPredicao = (predicao * 100)/total\n",
        "percentTotalNotSurvived = (totalSurvived * 100)/total\n",
        "\n",
        "print(\"At the end of the analysis, it was possible to find\", int(percentPredicao), \"% for the new column Predicao\")\n",
        "print(\"Containing in the original\" , int(percentTotalNotSurvived), \"% found in the file itself\")\n",
        "\n",
        "print()\n",
        "print(\"Column Predicao\", int(percentPredicao), \"%\")\n",
        "print(\"Column Not Survived\" , int(percentTotalNotSurvived), \"%\")\n",
        "\n"
      ],
      "execution_count": 20,
      "outputs": [
        {
          "output_type": "stream",
          "text": [
            "At the end of the analysis, it was possible to find 61 % for the new column Predicao\n",
            "Containing in the original 61 % found in the file itself\n",
            "\n",
            "Column Predicao 61 %\n",
            "Column Not Survived 61 %\n"
          ],
          "name": "stdout"
        }
      ]
    },
    {
      "cell_type": "markdown",
      "metadata": {
        "id": "dRbmS-JJ5nfF"
      },
      "source": [
        "<br>\n",
        "\n",
        "Developed by Lucas de Abreu\n",
        "\n",
        "https://github.com/Jornay\n",
        "\n",
        "https://www.linkedin.com/in/lucas-abreu-garcia/"
      ]
    }
  ]
}